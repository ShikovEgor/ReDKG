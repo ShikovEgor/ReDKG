{
 "cells": [
  {
   "cell_type": "code",
   "execution_count": 47,
   "id": "1e7ad0bb-e486-4134-9aab-1dbcf9bb4959",
   "metadata": {
    "pycharm": {
     "name": "#%%\n"
    }
   },
   "outputs": [
    {
     "name": "stdout",
     "output_type": "stream",
     "text": [
      "The autoreload extension is already loaded. To reload it, use:\n",
      "  %reload_ext autoreload\n"
     ]
    }
   ],
   "source": [
    "%load_ext autoreload\n",
    "%autoreload 2\n",
    "%matplotlib inline\n",
    "\n",
    "from tqdm import tqdm\n",
    "import torch\n",
    "\n",
    "import sys\n",
    "sys.path.append('../')\n",
    "\n",
    "from redkg.dataloader import TrainDataset, get_info\n",
    "from redkg.models.kge import KGEModel\n",
    "from redkg.config import Config\n",
    "from redkg.utils import AttributeDict\n",
    "from redkg.train import train_kge_model\n",
    "\n",
    "\n",
    "from ogb.linkproppred import LinkPropPredDataset, Evaluator"
   ]
  },
  {
   "cell_type": "markdown",
   "id": "a15fc0ba-cd99-4326-9047-de9d8f8d8623",
   "metadata": {
    "pycharm": {
     "name": "#%% md\n"
    },
    "tags": []
   },
   "source": [
    "# Загрузка данных\n",
    "## BioKG\n",
    "<img src=\"biokg_logo2.png\" width=\"400\">\n",
    "\n",
    "Набор данных **biokg** представляет собой граф знаний (ГЗ), который был создан с использованием данных из большого количества хранилищ биомедицинских данных. Он содержит 5 типов сущностей: болезни (10 687 узлов), белки (17 499 узлов), лекарства (10 533 узла), побочные эффекты (9 969 узлов) и функции белков (45 085 узлов). Существует 51 тип направленных отношений, связывающих два типа сущностей, в том числе 38 видов взаимодействий лекарство-лекарство, 8 видов взаимодействия белок-белок, а также отношения лекарство-белок, лекарство-побочное действие, функция-функция. Все отношения моделируются как направленные ребра, среди которых отношения, соединяющие одни и те же типы сущностей (например, белок-белок, лекарство-лекарство, функция-функция), всегда симметричны, т. е. ребра двунаправлены.\n",
    "\n",
    "Этот набор данных имеет отношение как к биомедицинским, так и к фундаментальным исследованиям машинного обучения. С точки зрения биомедицины набор данных позволяет нам лучше понять биологию человека и генерировать прогнозы, которые могут направлять дальнейшие биомедицинские исследования. С фундаментальной стороны ML набор данных создает проблемы при обработке зашумленного, неполного ГЗ с возможными противоречивыми наблюдениями. Это связано с тем, что набор данных ogbl-biokg включает в себя гетерогенные взаимодействия, которые охватывают диапазон от молекулярного масштаба (например, межбелковые взаимодействия внутри клетки) до целых популяций (например, сообщения о нежелательных побочных эффектах, испытываемых пациентами в конкретной стране). Кроме того, триплеты в KG поступают из источников с различными уровнями достоверности, включая экспериментальные показания, аннотации, созданные человеком, и автоматически извлеченные метаданные."
   ]
  },
  {
   "cell_type": "code",
   "execution_count": 50,
   "id": "bf1328f3-ce9d-4853-85d7-0b1f2fe49369",
   "metadata": {
    "pycharm": {
     "name": "#%%\n"
    }
   },
   "outputs": [],
   "source": [
    "dataset_name = 'ogbl-biokg'\n",
    "\n",
    "dataset = LinkPropPredDataset(name = dataset_name, root = '../data')\n",
    "split_edge = dataset.get_edge_split()\n",
    "train_triples, valid_triples, test_triples = split_edge[\"train\"], split_edge[\"valid\"], split_edge[\"test\"]\n",
    "\n",
    "info = get_info(dataset, train_triples, do_count = True)"
   ]
  },
  {
   "cell_type": "markdown",
   "id": "60e356be",
   "metadata": {
    "pycharm": {
     "name": "#%% md\n"
    }
   },
   "source": [
    "# Постановка задачи\n",
    "Решается задача прогнозирования связей в ГЗ используя модель KGE из модуля KGEModel\n",
    "\n"
   ]
  },
  {
   "cell_type": "code",
   "execution_count": 51,
   "id": "0f44c042-455a-4c11-9bac-2c09d96959d3",
   "metadata": {
    "pycharm": {
     "name": "#%%\n"
    }
   },
   "outputs": [],
   "source": [
    "evaluator = Evaluator(name = dataset_name)\n",
    "\n",
    "kge_model = KGEModel(\n",
    "        model_name=\"TransE\",\n",
    "        nentity=info['nentity'],\n",
    "        nrelation=info['nrelation'],\n",
    "        hidden_dim=128,\n",
    "        gamma=12.0,\n",
    "        double_entity_embedding=True,\n",
    "        double_relation_embedding=True,\n",
    "        evaluator=evaluator\n",
    "    )"
   ]
  },
  {
   "cell_type": "markdown",
   "id": "945f9c89-4035-456b-bcc0-9e6bdb0d5ee9",
   "metadata": {
    "pycharm": {
     "name": "#%% md\n"
    }
   },
   "source": [
    "## Обучение модели"
   ]
  },
  {
   "cell_type": "code",
   "execution_count": 26,
   "id": "3c28f2cf-e03c-464f-8357-6f8296eec1da",
   "metadata": {
    "pycharm": {
     "name": "#%%\n"
    }
   },
   "outputs": [],
   "source": [
    "train_pars = AttributeDict()\n",
    "train_pars.cuda = False\n",
    "train_pars.uni_weight = True\n",
    "train_pars.negative_adversarial_sampling = True\n",
    "train_pars.regularization = 0.0\n",
    "train_pars.adversarial_temperature = 1.0\n",
    "train_pars.train_batch_size = 128\n",
    "train_pars.negative_sample_size = 128\n",
    "train_pars.learning_rate = 0.001\n",
    "train_pars.cpu_num = 10\n",
    "train_pars.negative_mode = \"full\"\n",
    "train_pars.neg_size_eval_train = 500\n",
    "train_pars.test_log_steps = 1000\n",
    "train_pars.test_batch_size = 128\n",
    "train_pars.nentity = info['nentity']  \n",
    "train_pars.nrelation = info['nrelation']\n",
    "train_pars.do_test = True"
   ]
  },
  {
   "cell_type": "markdown",
   "id": "aa5defab",
   "metadata": {
    "pycharm": {
     "name": "#%% md\n"
    }
   },
   "source": [
    "## Результаты"
   ]
  },
  {
   "cell_type": "code",
   "execution_count": 12,
   "id": "693795d8",
   "metadata": {},
   "outputs": [
    {
     "name": "stderr",
     "output_type": "stream",
     "text": [
      "100%|██████████| 100/100 [00:05<00:00, 16.91it/s]\n"
     ]
    },
    {
     "name": "stdout",
     "output_type": "stream",
     "text": [
      "mrr: 0.721\n",
      "hits1: 0.438\n",
      "hits3: 0.715\n",
      "hits10: 0.965\n"
     ]
    }
   ],
   "source": [
    "evaluator = Evaluator() \n",
    "\n",
    "kge_model = KGEModel(\n",
    "        model_name=TransE,\n",
    "        nentity=info['nentity'],\n",
    "        nrelation=info['nrelation'],\n",
    "        hidden_dim=128,\n",
    "        gamma=12.0,\n",
    "        double_entity_embedding=True,\n",
    "        double_relation_embedding=True,\n",
    "        evaluator=evaluator\n",
    "    )\n",
    "\n",
    "training_logs, test_logs = train_kge_model(kge_model, train_pars, info, train_triples, valid_triples)\n",
    "metrics = test_model(kge_model, args)\n",
    "\n",
    "for key,value in metrics.items():\n",
    "    print(f'{key}: {round(value,3)}')"
   ]
  },
  {
   "cell_type": "code",
   "execution_count": null,
   "id": "1f9cb02c-fb60-430b-bfd0-de0a70eb75f8",
   "metadata": {
    "pycharm": {
     "name": "#%%\n"
    }
   },
   "outputs": [],
   "source": []
  },
  {
   "cell_type": "code",
   "execution_count": null,
   "id": "8b199d5a-09ac-4284-b0e7-8fd0894b4f11",
   "metadata": {
    "pycharm": {
     "name": "#%%\n"
    }
   },
   "outputs": [],
   "source": []
  },
  {
   "cell_type": "code",
   "execution_count": null,
   "id": "bd925e7e-7014-4183-87bf-93fa154d6b64",
   "metadata": {
    "pycharm": {
     "name": "#%%\n"
    }
   },
   "outputs": [],
   "source": []
  },
  {
   "cell_type": "code",
   "execution_count": null,
   "id": "23bb0d87-746d-4731-b3b5-85159ec45651",
   "metadata": {
    "pycharm": {
     "name": "#%%\n"
    }
   },
   "outputs": [],
   "source": []
  }
 ],
 "metadata": {
  "kernelspec": {
   "display_name": "Python [conda env:.conda-myenv]",
   "language": "python",
   "name": "conda-env-.conda-myenv-py"
  },
  "language_info": {
   "codemirror_mode": {
    "name": "ipython",
    "version": 3
   },
   "file_extension": ".py",
   "mimetype": "text/x-python",
   "name": "python",
   "nbconvert_exporter": "python",
   "pygments_lexer": "ipython3",
   "version": "3.9.12"
  }
 },
 "nbformat": 4,
 "nbformat_minor": 5
}
