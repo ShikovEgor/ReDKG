{
 "cells": [
  {
   "cell_type": "code",
   "execution_count": 1,
   "id": "1e7ad0bb-e486-4134-9aab-1dbcf9bb4959",
   "metadata": {},
   "outputs": [
    {
     "name": "stderr",
     "output_type": "stream",
     "text": [
      "/data/home/egor/.conda/envs/myenv/lib/python3.9/site-packages/tqdm/auto.py:22: TqdmWarning: IProgress not found. Please update jupyter and ipywidgets. See https://ipywidgets.readthedocs.io/en/stable/user_install.html\n",
      "  from .autonotebook import tqdm as notebook_tqdm\n"
     ]
    }
   ],
   "source": [
    "%load_ext autoreload\n",
    "%autoreload 2\n",
    "%matplotlib inline\n",
    "\n",
    "from tqdm import tqdm\n",
    "import torch\n",
    "\n",
    "import sys\n",
    "sys.path.append('../')\n",
    "\n",
    "from redkg.dataloader import TrainDataset, get_info\n",
    "from redkg.kge import KGEModel\n",
    "from redkg.config import Config\n",
    "from redkg.utils import AttributeDict\n",
    "from redkg.train import train_kge_model\n",
    "\n",
    "\n",
    "from ogb.linkproppred import LinkPropPredDataset, Evaluator"
   ]
  },
  {
   "cell_type": "markdown",
   "id": "a15fc0ba-cd99-4326-9047-de9d8f8d8623",
   "metadata": {
    "tags": []
   },
   "source": [
    "## BioKG\n",
    "<img src=\"biokg_logo2.png\" width=\"400\">\n",
    "\n",
    "The **biokg** dataset is a Knowledge Graph (KG), that was created using data from a large number of biomedical data repositories. It contains 5 types of entities: diseases (10,687 nodes), proteins (17,499), drugs (10,533 nodes), side effects (9,969 nodes), and protein functions (45,085 nodes). There are 51 types of directed relations connecting two types of entities, including 38 kinds of drug-drug interactions, 8 kinds of protein-protein interaction, as well as drug-protein, drug-side effect, function-function relations. All relations are modeled as directed edges, among which the relations connecting the same entity types (e.g., protein-protein, drug-drug, function-function) are always symmetric, i.e., the edges are bi-directional.\n",
    "\n",
    "This dataset is relevant to both biomedical and fundamental ML research. On the biomedical side, the dataset allows us to get better insights into human biology and generate predictions that can guide downstream biomedical research. On the fundamental ML side, the dataset presents challenges in handling a noisy, incomplete KG with possible contradictory observations. This is because the ogbl-biokg dataset involves heterogeneous interactions that span from the molecular scale (e.g., protein-protein interactions within a cell) to whole populations (e.g., reports of unwanted side effects experienced by patients in a particular country). Further, triplets in the KG come from sources with a variety of confidence levels, including experimental readouts, human-curated annotations, and automatically extracted metadata."
   ]
  },
  {
   "cell_type": "code",
   "execution_count": 3,
   "id": "bf1328f3-ce9d-4853-85d7-0b1f2fe49369",
   "metadata": {},
   "outputs": [],
   "source": [
    "dataset_name = 'ogbl-biokg'\n",
    "\n",
    "dataset = LinkPropPredDataset(name = dataset_name, root = '../data')\n",
    "split_edge = dataset.get_edge_split()\n",
    "train_triples, valid_triples, test_triples = split_edge[\"train\"], split_edge[\"valid\"], split_edge[\"test\"]\n",
    "\n",
    "info = get_info(dataset, train_triples)"
   ]
  },
  {
   "cell_type": "code",
   "execution_count": 5,
   "id": "0f44c042-455a-4c11-9bac-2c09d96959d3",
   "metadata": {},
   "outputs": [],
   "source": [
    "evaluator = Evaluator(name = dataset_name)\n",
    "\n",
    "kge_model = KGEModel(\n",
    "        model_name=\"TransE\",\n",
    "        nentity=info['nentity'],\n",
    "        nrelation=info['nrelation'],\n",
    "        hidden_dim=128,\n",
    "        gamma=12.0,\n",
    "        double_entity_embedding=True,\n",
    "        double_relation_embedding=True,\n",
    "        evaluator=evaluator\n",
    "    )"
   ]
  },
  {
   "cell_type": "markdown",
   "id": "945f9c89-4035-456b-bcc0-9e6bdb0d5ee9",
   "metadata": {},
   "source": [
    "## Training model"
   ]
  },
  {
   "cell_type": "code",
   "execution_count": 26,
   "id": "3c28f2cf-e03c-464f-8357-6f8296eec1da",
   "metadata": {},
   "outputs": [],
   "source": [
    "train_pars = AttributeDict()\n",
    "train_pars.cuda = False\n",
    "train_pars.uni_weight = True\n",
    "train_pars.negative_adversarial_sampling = True\n",
    "train_pars.regularization = 0.0\n",
    "train_pars.adversarial_temperature = 1.0\n",
    "train_pars.train_batch_size = 128\n",
    "train_pars.negative_sample_size = 128\n",
    "train_pars.learning_rate = 0.001\n",
    "train_pars.cpu_num = 10\n",
    "train_pars.negative_mode = \"full\"\n",
    "train_pars.neg_size_eval_train = 500\n",
    "train_pars.test_log_steps = 1000\n",
    "train_pars.test_batch_size = 128\n",
    "train_pars.nentity = info['nentity']  \n",
    "train_pars.nrelation = info['nrelation']\n",
    "train_pars.do_test = True"
   ]
  },
  {
   "cell_type": "code",
   "execution_count": 46,
   "id": "07655037-6675-4393-83bd-aa2761c1b70f",
   "metadata": {},
   "outputs": [
    {
     "name": "stdout",
     "output_type": "stream",
     "text": [
      "Training...\n"
     ]
    }
   ],
   "source": [
    "training_logs, test_logs = train_kge_model(kge_model, train_pars, test_params, info, train_triples, valid_triples, test_triples)"
   ]
  },
  {
   "cell_type": "markdown",
   "id": "aa5defab",
   "metadata": {},
   "source": [
    "## Results visualization"
   ]
  },
  {
   "cell_type": "code",
   "execution_count": 64,
   "id": "2daa7f04-2207-479f-93d0-a7357f5264ed",
   "metadata": {},
   "outputs": [
    {
     "data": {
      "text/plain": [
       "[{'hits@1_list': 0.0033673858270049095,\n",
       "  'hits@3_list': 0.009205824695527554,\n",
       "  'hits@10_list': 0.029947325587272644,\n",
       "  'mrr_list': 0.0193993728607893},\n",
       " {'hits@1_list': 0.003305993042886257,\n",
       "  'hits@3_list': 0.009122944436967373,\n",
       "  'hits@10_list': 0.029704824090003967,\n",
       "  'mrr_list': 0.01936676912009716},\n",
       " {'hits@1_list': 0.00337966438382864,\n",
       "  'hits@3_list': 0.009211963973939419,\n",
       "  'hits@10_list': 0.029950395226478577,\n",
       "  'mrr_list': 0.019408494234085083},\n",
       " {'hits@1_list': 0.0033213412389159203,\n",
       "  'hits@3_list': 0.009098388254642487,\n",
       "  'hits@10_list': 0.0294254869222641,\n",
       "  'mrr_list': 0.019350754097104073},\n",
       " {'hits@1_list': 0.0032752968836575747,\n",
       "  'hits@3_list': 0.009138292632997036,\n",
       "  'hits@10_list': 0.02936716563999653,\n",
       "  'mrr_list': 0.01935487426817417},\n",
       " {'hits@1_list': 0.003315201960504055,\n",
       "  'hits@3_list': 0.009098388254642487,\n",
       "  'hits@10_list': 0.029385583475232124,\n",
       "  'mrr_list': 0.01936601661145687},\n",
       " {'hits@1_list': 0.0033029234036803246,\n",
       "  'hits@3_list': 0.008905000984668732,\n",
       "  'hits@10_list': 0.029222892597317696,\n",
       "  'mrr_list': 0.01932138204574585},\n",
       " {'hits@1_list': 0.00330906268209219,\n",
       "  'hits@3_list': 0.008883513510227203,\n",
       "  'hits@10_list': 0.029272006824612617,\n",
       "  'mrr_list': 0.019309179857373238},\n",
       " {'hits@1_list': 0.0032691576052457094,\n",
       "  'hits@3_list': 0.008951045572757721,\n",
       "  'hits@10_list': 0.029207544401288033,\n",
       "  'mrr_list': 0.019305111840367317},\n",
       " {'hits@1_list': 0.0032599486876279116,\n",
       "  'hits@3_list': 0.00898481160402298,\n",
       "  'hits@10_list': 0.029222892597317696,\n",
       "  'mrr_list': 0.019316496327519417}]"
      ]
     },
     "execution_count": 64,
     "metadata": {},
     "output_type": "execute_result"
    }
   ],
   "source": [
    "test_logs"
   ]
  },
  {
   "cell_type": "code",
   "execution_count": 63,
   "id": "a81335f2-7cf8-4b3c-8cf6-2e255234bfed",
   "metadata": {},
   "outputs": [
    {
     "data": {
      "text/plain": [
       "[{'positive_sample_loss': 5.781314849853516,\n",
       "  'negative_sample_loss': 0.14729920029640198,\n",
       "  'loss': 2.9643070697784424},\n",
       " {'positive_sample_loss': 5.593881607055664,\n",
       "  'negative_sample_loss': 0.04241343215107918,\n",
       "  'loss': 2.8181474208831787},\n",
       " {'positive_sample_loss': 5.6944122314453125,\n",
       "  'negative_sample_loss': 0.059163790196180344,\n",
       "  'loss': 2.8767879009246826},\n",
       " {'positive_sample_loss': 5.279773235321045,\n",
       "  'negative_sample_loss': 0.09559981524944305,\n",
       "  'loss': 2.6876864433288574},\n",
       " {'positive_sample_loss': 5.365677356719971,\n",
       "  'negative_sample_loss': 0.18596382439136505,\n",
       "  'loss': 2.77582049369812},\n",
       " {'positive_sample_loss': 5.616865634918213,\n",
       "  'negative_sample_loss': 0.24613013863563538,\n",
       "  'loss': 2.931497812271118},\n",
       " {'positive_sample_loss': 5.645710468292236,\n",
       "  'negative_sample_loss': 0.15487168729305267,\n",
       "  'loss': 2.9002909660339355},\n",
       " {'positive_sample_loss': 5.437168598175049,\n",
       "  'negative_sample_loss': 0.08542022109031677,\n",
       "  'loss': 2.761294364929199},\n",
       " {'positive_sample_loss': 5.42050838470459,\n",
       "  'negative_sample_loss': 0.14526036381721497,\n",
       "  'loss': 2.782884359359741},\n",
       " {'positive_sample_loss': 5.240655899047852,\n",
       "  'negative_sample_loss': 0.22022339701652527,\n",
       "  'loss': 2.7304396629333496}]"
      ]
     },
     "execution_count": 63,
     "metadata": {},
     "output_type": "execute_result"
    }
   ],
   "source": [
    "training_logs"
   ]
  },
  {
   "cell_type": "code",
   "execution_count": null,
   "id": "1f9cb02c-fb60-430b-bfd0-de0a70eb75f8",
   "metadata": {},
   "outputs": [],
   "source": []
  },
  {
   "cell_type": "code",
   "execution_count": null,
   "id": "8b199d5a-09ac-4284-b0e7-8fd0894b4f11",
   "metadata": {},
   "outputs": [],
   "source": []
  },
  {
   "cell_type": "code",
   "execution_count": null,
   "id": "bd925e7e-7014-4183-87bf-93fa154d6b64",
   "metadata": {},
   "outputs": [],
   "source": []
  },
  {
   "cell_type": "code",
   "execution_count": null,
   "id": "23bb0d87-746d-4731-b3b5-85159ec45651",
   "metadata": {},
   "outputs": [],
   "source": []
  }
 ],
 "metadata": {
  "kernelspec": {
   "display_name": "Python [conda env:.conda-myenv]",
   "language": "python",
   "name": "conda-env-.conda-myenv-py"
  },
  "language_info": {
   "codemirror_mode": {
    "name": "ipython",
    "version": 3
   },
   "file_extension": ".py",
   "mimetype": "text/x-python",
   "name": "python",
   "nbconvert_exporter": "python",
   "pygments_lexer": "ipython3",
   "version": "3.9.12"
  }
 },
 "nbformat": 4,
 "nbformat_minor": 5
}
