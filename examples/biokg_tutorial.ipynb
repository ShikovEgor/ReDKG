{
 "cells": [
  {
   "cell_type": "code",
   "execution_count": 1,
   "id": "1e7ad0bb-e486-4134-9aab-1dbcf9bb4959",
   "metadata": {},
   "outputs": [
    {
     "name": "stderr",
     "output_type": "stream",
     "text": [
      "/data/home/egor/.conda/envs/myenv/lib/python3.9/site-packages/tqdm/auto.py:22: TqdmWarning: IProgress not found. Please update jupyter and ipywidgets. See https://ipywidgets.readthedocs.io/en/stable/user_install.html\n",
      "  from .autonotebook import tqdm as notebook_tqdm\n"
     ]
    }
   ],
   "source": [
    "%load_ext autoreload\n",
    "%autoreload 2\n",
    "%matplotlib inline\n",
    "\n",
    "from tqdm import tqdm\n",
    "import torch\n",
    "from torch.utils.data import DataLoader\n",
    "\n",
    "import sys\n",
    "sys.path.append('../')\n",
    "\n",
    "from redkg.dataloader import read_kg, BidirectionalOneShotIterator, get_info  #TrainDataset, \n",
    "from redkg.kge import KGEModel\n",
    "from redkg.config import Config\n",
    "from redkg.utils import AttributeDict\n",
    "\n",
    "from ogb.linkproppred import LinkPropPredDataset, Evaluator"
   ]
  },
  {
   "cell_type": "code",
   "execution_count": 2,
   "id": "726b8d0c-8ec2-474f-a754-59d7962b677e",
   "metadata": {
    "tags": []
   },
   "outputs": [],
   "source": [
    "from torch.utils.data import Dataset\n",
    "class TrainDataset(Dataset):\n",
    "    def __init__(self, triples, nentity, nrelation, negative_sample_size, mode, count, true_head, true_tail, entity_dict):\n",
    "        self.len = len(triples['head'])\n",
    "        self.triples = triples\n",
    "        self.nentity = nentity\n",
    "        self.nrelation = nrelation\n",
    "        self.negative_sample_size = negative_sample_size\n",
    "        self.mode = mode\n",
    "        self.count = count\n",
    "        self.true_head = true_head\n",
    "        self.true_tail = true_tail\n",
    "        self.entity_dict = entity_dict\n",
    "        \n",
    "    def __len__(self):\n",
    "        return self.len\n",
    "    \n",
    "    def __getitem__(self, idx):\n",
    "        head, relation, tail = self.triples['head'][idx], self.triples['relation'][idx], self.triples['tail'][idx]\n",
    "        head_type, tail_type = self.triples['head_type'][idx], self.triples['tail_type'][idx]\n",
    "        positive_sample = [head + self.entity_dict[head_type][0], relation, tail + self.entity_dict[tail_type][0]]\n",
    "\n",
    "        subsampling_weight = self.count[(head, relation, head_type)] + self.count[(tail, -relation-1, tail_type)]\n",
    "        subsampling_weight = torch.sqrt(1 / torch.Tensor([subsampling_weight]))\n",
    "\n",
    "        if self.mode == 'head-batch':\n",
    "            negative_sample = torch.randint(self.entity_dict[head_type][0], self.entity_dict[head_type][1], (self.negative_sample_size,))\n",
    "        elif self.mode == 'tail-batch':\n",
    "            negative_sample = torch.randint(self.entity_dict[tail_type][0], self.entity_dict[tail_type][1], (self.negative_sample_size,))\n",
    "        else:\n",
    "            raise\n",
    "        positive_sample = torch.LongTensor(positive_sample)\n",
    "            \n",
    "        return positive_sample, negative_sample, subsampling_weight, self.mode\n",
    "    \n",
    "    @staticmethod\n",
    "    def collate_fn(data):\n",
    "        positive_sample = torch.stack([_[0] for _ in data], dim=0)\n",
    "        negative_sample = torch.stack([_[1] for _ in data], dim=0)\n",
    "        subsample_weight = torch.cat([_[2] for _ in data], dim=0)\n",
    "        mode = data[0][3]\n",
    "        return positive_sample, negative_sample, subsample_weight, mode\n",
    "    "
   ]
  },
  {
   "cell_type": "markdown",
   "id": "a15fc0ba-cd99-4326-9047-de9d8f8d8623",
   "metadata": {},
   "source": [
    "## BioKG\n",
    "<img src=\"biokg_logo2.png\" width=\"400\">\n",
    "\n",
    "The **biokg** dataset is a Knowledge Graph (KG), that was created using data from a large number of biomedical data repositories. It contains 5 types of entities: diseases (10,687 nodes), proteins (17,499), drugs (10,533 nodes), side effects (9,969 nodes), and protein functions (45,085 nodes). There are 51 types of directed relations connecting two types of entities, including 38 kinds of drug-drug interactions, 8 kinds of protein-protein interaction, as well as drug-protein, drug-side effect, function-function relations. All relations are modeled as directed edges, among which the relations connecting the same entity types (e.g., protein-protein, drug-drug, function-function) are always symmetric, i.e., the edges are bi-directional.\n",
    "\n",
    "This dataset is relevant to both biomedical and fundamental ML research. On the biomedical side, the dataset allows us to get better insights into human biology and generate predictions that can guide downstream biomedical research. On the fundamental ML side, the dataset presents challenges in handling a noisy, incomplete KG with possible contradictory observations. This is because the ogbl-biokg dataset involves heterogeneous interactions that span from the molecular scale (e.g., protein-protein interactions within a cell) to whole populations (e.g., reports of unwanted side effects experienced by patients in a particular country). Further, triplets in the KG come from sources with a variety of confidence levels, including experimental readouts, human-curated annotations, and automatically extracted metadata."
   ]
  },
  {
   "cell_type": "code",
   "execution_count": 3,
   "id": "bf1328f3-ce9d-4853-85d7-0b1f2fe49369",
   "metadata": {},
   "outputs": [],
   "source": [
    "dataset_name = 'ogbl-biokg'\n",
    "\n",
    "dataset = LinkPropPredDataset(name = dataset_name, root = '../data')\n",
    "split_edge = dataset.get_edge_split()\n",
    "train_triples, valid_triples, test_triples = split_edge[\"train\"], split_edge[\"valid\"], split_edge[\"test\"]\n",
    "\n"
   ]
  },
  {
   "cell_type": "code",
   "execution_count": 12,
   "id": "06de37e7-b521-4cc0-9e7f-3c47896a9487",
   "metadata": {},
   "outputs": [],
   "source": [
    "info = get_info(dataset, train_triples)"
   ]
  },
  {
   "cell_type": "code",
   "execution_count": 5,
   "id": "0f44c042-455a-4c11-9bac-2c09d96959d3",
   "metadata": {},
   "outputs": [],
   "source": [
    "evaluator = Evaluator(name = dataset_name)\n",
    "\n",
    "kge_model = KGEModel(\n",
    "        model_name=\"TransE\",\n",
    "        nentity=info['nentity'],\n",
    "        nrelation=info['nrelation'],\n",
    "        hidden_dim=128,\n",
    "        gamma=12.0,\n",
    "        double_entity_embedding=True,\n",
    "        double_relation_embedding=True,\n",
    "        evaluator=evaluator\n",
    "    )"
   ]
  },
  {
   "cell_type": "markdown",
   "id": "945f9c89-4035-456b-bcc0-9e6bdb0d5ee9",
   "metadata": {},
   "source": [
    "## Training model"
   ]
  },
  {
   "cell_type": "code",
   "execution_count": 18,
   "id": "3c28f2cf-e03c-464f-8357-6f8296eec1da",
   "metadata": {},
   "outputs": [],
   "source": [
    "train_pars = AttributeDict()\n",
    "train_pars.cuda = False\n",
    "train_pars.uni_weight = True\n",
    "train_pars.negative_adversarial_sampling = True\n",
    "train_pars.regularization = 0.0\n",
    "train_pars.adversarial_temperature = 1.0\n",
    "train_pars.train_batch_size = 128\n",
    "train_pars.negative_sample_size = 128\n",
    "train_pars.learning_rate = 0.001\n",
    "train_pars.cpu_num = 10\n",
    "\n",
    "test_params = AttributeDict()\n",
    "test_params.cuda = False\n",
    "test_params.neg_size_eval_train = 500\n",
    "test_params.test_log_steps = 1000\n",
    "test_params.test_batch_size = 128\n",
    "test_params.cpu_num = 10\n",
    "test_params.nentity = info['nentity']  \n",
    "test_params.nrelation = info['nrelation']"
   ]
  },
  {
   "cell_type": "code",
   "execution_count": 19,
   "id": "2657270b-a146-4510-a242-0a5ed84a7424",
   "metadata": {},
   "outputs": [],
   "source": [
    "def train_kge_model(kge_model, train_pars, test_params, info, train_triples, valid_triples, test_triples, max_steps = 10):\n",
    "    print('Training...')\n",
    "    optimizer = torch.optim.Adam(\n",
    "            filter(lambda p: p.requires_grad, kge_model.parameters()), \n",
    "            lr=train_pars.learning_rate)\n",
    "    \n",
    "\n",
    "    train_dataloader_head = DataLoader(\n",
    "        TrainDataset(train_triples, info['nentity'], info['nrelation'], \n",
    "            train_pars.negative_sample_size, 'head-batch',\n",
    "            info['count'], info['true_head'], info['true_tail'],\n",
    "            info['entity_dict']), \n",
    "        batch_size=train_pars.train_batch_size,\n",
    "        shuffle=True, \n",
    "        num_workers=max(1, train_pars.cpu_num//2),\n",
    "        collate_fn=TrainDataset.collate_fn\n",
    "    )\n",
    "\n",
    "    train_dataloader_tail = DataLoader(\n",
    "        TrainDataset(train_triples, info['nentity'], info['nrelation'], \n",
    "            train_pars.negative_sample_size, 'tail-batch',\n",
    "            info['count'], info['true_head'], info['true_tail'],\n",
    "            info['entity_dict']), \n",
    "        batch_size=train_pars.train_batch_size,\n",
    "        shuffle=True, \n",
    "        num_workers=max(1, train_pars.cpu_num//2),\n",
    "        collate_fn=TrainDataset.collate_fn\n",
    "    )\n",
    "    train_iterator = BidirectionalOneShotIterator(train_dataloader_head, train_dataloader_tail)\n",
    "        \n",
    "    training_logs = []\n",
    "    test_logs = []\n",
    "\n",
    "    #Training Loop\n",
    "    for step in range(max_steps):\n",
    "        log = kge_model.train_step(kge_model, optimizer, train_iterator, train_pars)\n",
    "        training_logs.append(log)\n",
    "\n",
    "        metrics = kge_model.test_step(kge_model, valid_triples, test_params, info['entity_dict'])\n",
    "        test_logs.append(metrics)\n",
    "    \n",
    "        return training_logs, test_logs"
   ]
  },
  {
   "cell_type": "code",
   "execution_count": 20,
   "id": "07655037-6675-4393-83bd-aa2761c1b70f",
   "metadata": {},
   "outputs": [
    {
     "name": "stdout",
     "output_type": "stream",
     "text": [
      "Training...\n"
     ]
    }
   ],
   "source": [
    "training_logs, test_logs = train_kge_model(kge_model, train_pars, test_params, info, train_triples, valid_triples, test_triples)"
   ]
  },
  {
   "cell_type": "markdown",
   "id": "aa5defab",
   "metadata": {},
   "source": [
    "## Results visualization"
   ]
  },
  {
   "cell_type": "code",
   "execution_count": 64,
   "id": "2daa7f04-2207-479f-93d0-a7357f5264ed",
   "metadata": {},
   "outputs": [
    {
     "data": {
      "text/plain": [
       "[{'hits@1_list': 0.0033673858270049095,\n",
       "  'hits@3_list': 0.009205824695527554,\n",
       "  'hits@10_list': 0.029947325587272644,\n",
       "  'mrr_list': 0.0193993728607893},\n",
       " {'hits@1_list': 0.003305993042886257,\n",
       "  'hits@3_list': 0.009122944436967373,\n",
       "  'hits@10_list': 0.029704824090003967,\n",
       "  'mrr_list': 0.01936676912009716},\n",
       " {'hits@1_list': 0.00337966438382864,\n",
       "  'hits@3_list': 0.009211963973939419,\n",
       "  'hits@10_list': 0.029950395226478577,\n",
       "  'mrr_list': 0.019408494234085083},\n",
       " {'hits@1_list': 0.0033213412389159203,\n",
       "  'hits@3_list': 0.009098388254642487,\n",
       "  'hits@10_list': 0.0294254869222641,\n",
       "  'mrr_list': 0.019350754097104073},\n",
       " {'hits@1_list': 0.0032752968836575747,\n",
       "  'hits@3_list': 0.009138292632997036,\n",
       "  'hits@10_list': 0.02936716563999653,\n",
       "  'mrr_list': 0.01935487426817417},\n",
       " {'hits@1_list': 0.003315201960504055,\n",
       "  'hits@3_list': 0.009098388254642487,\n",
       "  'hits@10_list': 0.029385583475232124,\n",
       "  'mrr_list': 0.01936601661145687},\n",
       " {'hits@1_list': 0.0033029234036803246,\n",
       "  'hits@3_list': 0.008905000984668732,\n",
       "  'hits@10_list': 0.029222892597317696,\n",
       "  'mrr_list': 0.01932138204574585},\n",
       " {'hits@1_list': 0.00330906268209219,\n",
       "  'hits@3_list': 0.008883513510227203,\n",
       "  'hits@10_list': 0.029272006824612617,\n",
       "  'mrr_list': 0.019309179857373238},\n",
       " {'hits@1_list': 0.0032691576052457094,\n",
       "  'hits@3_list': 0.008951045572757721,\n",
       "  'hits@10_list': 0.029207544401288033,\n",
       "  'mrr_list': 0.019305111840367317},\n",
       " {'hits@1_list': 0.0032599486876279116,\n",
       "  'hits@3_list': 0.00898481160402298,\n",
       "  'hits@10_list': 0.029222892597317696,\n",
       "  'mrr_list': 0.019316496327519417}]"
      ]
     },
     "execution_count": 64,
     "metadata": {},
     "output_type": "execute_result"
    }
   ],
   "source": [
    "test_logs"
   ]
  },
  {
   "cell_type": "code",
   "execution_count": 63,
   "id": "a81335f2-7cf8-4b3c-8cf6-2e255234bfed",
   "metadata": {},
   "outputs": [
    {
     "data": {
      "text/plain": [
       "[{'positive_sample_loss': 5.781314849853516,\n",
       "  'negative_sample_loss': 0.14729920029640198,\n",
       "  'loss': 2.9643070697784424},\n",
       " {'positive_sample_loss': 5.593881607055664,\n",
       "  'negative_sample_loss': 0.04241343215107918,\n",
       "  'loss': 2.8181474208831787},\n",
       " {'positive_sample_loss': 5.6944122314453125,\n",
       "  'negative_sample_loss': 0.059163790196180344,\n",
       "  'loss': 2.8767879009246826},\n",
       " {'positive_sample_loss': 5.279773235321045,\n",
       "  'negative_sample_loss': 0.09559981524944305,\n",
       "  'loss': 2.6876864433288574},\n",
       " {'positive_sample_loss': 5.365677356719971,\n",
       "  'negative_sample_loss': 0.18596382439136505,\n",
       "  'loss': 2.77582049369812},\n",
       " {'positive_sample_loss': 5.616865634918213,\n",
       "  'negative_sample_loss': 0.24613013863563538,\n",
       "  'loss': 2.931497812271118},\n",
       " {'positive_sample_loss': 5.645710468292236,\n",
       "  'negative_sample_loss': 0.15487168729305267,\n",
       "  'loss': 2.9002909660339355},\n",
       " {'positive_sample_loss': 5.437168598175049,\n",
       "  'negative_sample_loss': 0.08542022109031677,\n",
       "  'loss': 2.761294364929199},\n",
       " {'positive_sample_loss': 5.42050838470459,\n",
       "  'negative_sample_loss': 0.14526036381721497,\n",
       "  'loss': 2.782884359359741},\n",
       " {'positive_sample_loss': 5.240655899047852,\n",
       "  'negative_sample_loss': 0.22022339701652527,\n",
       "  'loss': 2.7304396629333496}]"
      ]
     },
     "execution_count": 63,
     "metadata": {},
     "output_type": "execute_result"
    }
   ],
   "source": [
    "training_logs"
   ]
  },
  {
   "cell_type": "code",
   "execution_count": null,
   "id": "1f9cb02c-fb60-430b-bfd0-de0a70eb75f8",
   "metadata": {},
   "outputs": [],
   "source": []
  },
  {
   "cell_type": "code",
   "execution_count": null,
   "id": "8b199d5a-09ac-4284-b0e7-8fd0894b4f11",
   "metadata": {},
   "outputs": [],
   "source": []
  },
  {
   "cell_type": "code",
   "execution_count": null,
   "id": "bd925e7e-7014-4183-87bf-93fa154d6b64",
   "metadata": {},
   "outputs": [],
   "source": []
  },
  {
   "cell_type": "code",
   "execution_count": null,
   "id": "23bb0d87-746d-4731-b3b5-85159ec45651",
   "metadata": {},
   "outputs": [],
   "source": []
  }
 ],
 "metadata": {
  "kernelspec": {
   "display_name": "Python [conda env:.conda-myenv]",
   "language": "python",
   "name": "conda-env-.conda-myenv-py"
  },
  "language_info": {
   "codemirror_mode": {
    "name": "ipython",
    "version": 3
   },
   "file_extension": ".py",
   "mimetype": "text/x-python",
   "name": "python",
   "nbconvert_exporter": "python",
   "pygments_lexer": "ipython3",
   "version": "3.9.12"
  }
 },
 "nbformat": 4,
 "nbformat_minor": 5
}
